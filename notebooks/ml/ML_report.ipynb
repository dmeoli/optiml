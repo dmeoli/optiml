{
 "cells": [
  {
   "cell_type": "code",
   "execution_count": 1,
   "metadata": {
    "hideCode": true,
    "hidePrompt": true
   },
   "outputs": [],
   "source": [
    "import os\n",
    "import sys\n",
    "\n",
    "module_path = os.path.abspath(os.path.join('../..'))\n",
    "\n",
    "if module_path not in sys.path:\n",
    "    sys.path.append(module_path)"
   ]
  },
  {
   "cell_type": "code",
   "execution_count": 2,
   "metadata": {
    "hideCode": true,
    "hidePrompt": true
   },
   "outputs": [],
   "source": [
    "import matplotlib.pyplot as plt\n",
    "\n",
    "plt.style.use('ggplot')"
   ]
  },
  {
   "cell_type": "markdown",
   "metadata": {
    "hidePrompt": false
   },
   "source": [
    "# <center>Machine Learning Report</center>\n",
    "### <center>Donato Meoli</center>\n",
    "##### <center>d.meoli@studenti.unipi.it</center>\n",
    "\n",
    "<center>Machine Learning course 654AA</center>\n",
    "<center>Academic year: 2019/2020</center>\n",
    "\n",
    "<center>Type of project: A with Computational Mathematics</center>"
   ]
  },
  {
   "cell_type": "markdown",
   "metadata": {},
   "source": [
    "## Abstract"
   ]
  },
  {
   "cell_type": "markdown",
   "metadata": {},
   "source": [
    "The aim of this project report is to briefly describe the contents of the **OptiML** library, for what about the ***ml*** module, and to show the training results on the *Monk's* classification problem, used as a benchmark for testing the learning models, and the model selection results on the **ML-CUP19** regression problem.\n",
    "\n",
    "The latter refers to an academic competition within the Machine Learning course for which a **MEE** of **1.01** was achieved on the *evaluation set* (TS), the 20% of the whole dataset, using a **Support Vector Regression** with a **Gaussian RBF kernel**. \n",
    "\n",
    "The model selection was done through a *grid search* for tuning the hyperparameters of the model and, for each combination of them, a *5 fold cross-validation* was performed."
   ]
  },
  {
   "cell_type": "markdown",
   "metadata": {},
   "source": [
    "## Introduction"
   ]
  },
  {
   "cell_type": "markdown",
   "metadata": {},
   "source": [
    "This software is a *sklearn compatible* implementation of *Support Vector Machines* and *Neural Networks*, both with some of the most successful features according to the state of art.\n",
    "\n",
    "This work, in all its parts, was motivated by the possibility of being able to solve the optimization problem deriving from the mathematical formulation of the leraning models through a wide range of optimization algorithms object of study and developed for the *Computational Mathematics* course."
   ]
  },
  {
   "cell_type": "markdown",
   "metadata": {},
   "source": [
    "## Contents"
   ]
  },
  {
   "cell_type": "markdown",
   "metadata": {},
   "source": [
    "The following learning models with the releated features are supported:\n",
    "\n",
    "- ***Neural Networks***\n",
    "    - Losses: *Mean Absolute Error*, *Mean Squared Error*, *Binary Cross Entropy*, *Categorical Cross Entropy* and *Sparse Categorical Cross Entropy*\n",
    "    - Regularizers: L1 and L2\n",
    "    - Activations: *Linear*, *Sigmoid*, *Tanh*, *ReLU*, *SoftMax*\n",
    "    - Initializers: Xavier or Glorot normal and uniform\n",
    "    - Optimizers\n",
    "        - Line Search Methods: *Steepest Gradient Descent*, *Conjugate Gradient*, *BFGS*\n",
    "        - Stochastic Methods: *Stochastic Gradient Descent*, *Adam*, *AdaDelta*, *AdaGrad*, *AdaMax*, *RProp*, *RMSProp* all with *Polyak* and *Nesterov momentum*\n",
    "- ***Support Vector Machines***\n",
    "    - SVC and SVR in their *primal formulation* with *Hinge* and *Squared Hinge*, *Epsilon-Insensitive* and *Squared Epsilon-Insensitive* losses respectively\n",
    "        - Optimizers: all those mentioned above for Neural Networks\n",
    "    - SVC and SVR in their *Wolfe dual formulation* with *Linear*, *Polynomial*, *Gaussian* and *Sigmoid* kernels\n",
    "        - Optimizers: *Projected Gradient*, *Frank-Wolfe*, *Active Set*, *Interior Point*, *Lagrangian Dual Relaxation* and *Sequential Minimal Optimization*\n",
    "        \n",
    "Please notice that all the other components that are not strictly connected with the development of these models such as utility functions for splitting datasets into train and test, data preprocessing and model selection methods, etc. are inherited from *sklearn*."
   ]
  },
  {
   "cell_type": "markdown",
   "metadata": {},
   "source": [
    "## Experiments"
   ]
  },
  {
   "cell_type": "markdown",
   "metadata": {},
   "source": [
    "### Monk's Problem"
   ]
  },
  {
   "cell_type": "markdown",
   "metadata": {},
   "source": [
    "In this first section of the report, we are going to show firstly how the implementation of both, *Support Vector Machines* and *Neural Networks*, works correctly on the Monk’s problem, used as a benchmark for the latter experiments."
   ]
  },
  {
   "cell_type": "markdown",
   "metadata": {},
   "source": [
    "#### Support Vector Classifier"
   ]
  },
  {
   "cell_type": "markdown",
   "metadata": {},
   "source": [
    "In case of *Support Vector Classifier* we are going to use the *Wolfe dual* formulation implementation also to show the kernel trick usage."
   ]
  },
  {
   "cell_type": "code",
   "execution_count": 43,
   "metadata": {
    "hideCode": true,
    "hidePrompt": true
   },
   "outputs": [],
   "source": [
    "import numpy as np\n",
    "\n",
    "from optiml.ml.svm import DualSVC\n",
    "from optiml.ml.svm.kernels import PolyKernel, GaussianKernel\n",
    "\n",
    "from optiml.opti.constrained import *\n",
    "\n",
    "from sklearn.datasets import fetch_openml\n",
    "from sklearn.preprocessing import OneHotEncoder\n",
    "from sklearn.metrics import accuracy_score"
   ]
  },
  {
   "cell_type": "markdown",
   "metadata": {},
   "source": [
    "##### Monk #1"
   ]
  },
  {
   "cell_type": "code",
   "execution_count": 56,
   "metadata": {
    "hideCode": true,
    "hidePrompt": true
   },
   "outputs": [],
   "source": [
    "X, y = fetch_openml('monks-problems-1', return_X_y=True)\n",
    "y = y.astype(np.float32)\n",
    "\n",
    "X_train = OneHotEncoder(sparse=False).fit_transform(X[:124,:])\n",
    "X_test = OneHotEncoder(sparse=False).fit_transform(X[124:,:])\n",
    "y_train, y_test = y[:124], y[124:]"
   ]
  },
  {
   "cell_type": "code",
   "execution_count": 57,
   "metadata": {
    "hidePrompt": true
   },
   "outputs": [
    {
     "name": "stdout",
     "output_type": "stream",
     "text": [
      "accuracy: 1.0\n"
     ]
    }
   ],
   "source": [
    "svc = DualSVC(kernel=PolyKernel(degree=3, gamma='scale'), \n",
    "              optimizer=ProjectedGradient, verbose=False)\n",
    "svc.fit(X_train, y_train)\n",
    "print(f'accuracy: {accuracy_score(y_test, svc.predict(X_test))}')"
   ]
  },
  {
   "cell_type": "markdown",
   "metadata": {},
   "source": [
    "##### Monk #2"
   ]
  },
  {
   "cell_type": "code",
   "execution_count": 72,
   "metadata": {
    "hideCode": true,
    "hidePrompt": true
   },
   "outputs": [],
   "source": [
    "X, y = fetch_openml('monks-problems-2', return_X_y=True)\n",
    "y = y.astype(np.float32)\n",
    "\n",
    "X_train = OneHotEncoder(sparse=False).fit_transform(X[:169,:])\n",
    "X_test = OneHotEncoder(sparse=False).fit_transform(X[169:,:])\n",
    "y_train, y_test = y[:169], y[169:]"
   ]
  },
  {
   "cell_type": "code",
   "execution_count": 105,
   "metadata": {
    "hidePrompt": true
   },
   "outputs": [
    {
     "name": "stdout",
     "output_type": "stream",
     "text": [
      "accuracy: 1.0\n"
     ]
    }
   ],
   "source": [
    "svc = DualSVC(kernel=PolyKernel(degree=2, gamma='scale'), \n",
    "              optimizer=InteriorPoint, verbose=False)\n",
    "svc.fit(X_train, y_train)\n",
    "print(f'accuracy: {accuracy_score(y_test, svc.predict(X_test))}')"
   ]
  },
  {
   "cell_type": "markdown",
   "metadata": {},
   "source": [
    "##### Monk #3"
   ]
  },
  {
   "cell_type": "code",
   "execution_count": 62,
   "metadata": {
    "hideCode": true,
    "hidePrompt": true
   },
   "outputs": [],
   "source": [
    "X, y = fetch_openml('monks-problems-3', return_X_y=True)\n",
    "y = y.astype(np.float32)\n",
    "\n",
    "X_train = OneHotEncoder(sparse=False).fit_transform(X[:122,:])\n",
    "X_test = OneHotEncoder(sparse=False).fit_transform(X[122:,:])\n",
    "y_train, y_test = y[:122], y[122:]"
   ]
  },
  {
   "cell_type": "code",
   "execution_count": 96,
   "metadata": {
    "hidePrompt": true
   },
   "outputs": [
    {
     "name": "stdout",
     "output_type": "stream",
     "text": [
      "accuracy: 0.8263888888888888\n"
     ]
    }
   ],
   "source": [
    "svc = DualSVC(kernel=GaussianKernel(gamma='auto'), C=100, \n",
    "              optimizer=ActiveSet, verbose=False)\n",
    "svc.fit(X_train, y_train)\n",
    "print(f'accuracy: {accuracy_score(y_test, svc.predict(X_test))}')"
   ]
  },
  {
   "cell_type": "markdown",
   "metadata": {},
   "source": [
    "#### Neural Network Classifier"
   ]
  },
  {
   "cell_type": "markdown",
   "metadata": {
    "hideCode": false
   },
   "source": [
    "In case of *Neural Network Classifier* we are going to use different optimizers, both *stochastic* and *line search* methods, with different loss and activation functions."
   ]
  },
  {
   "cell_type": "code",
   "execution_count": 7,
   "metadata": {
    "hideCode": true,
    "hidePrompt": true
   },
   "outputs": [],
   "source": [
    "import numpy as np\n",
    "\n",
    "from optiml.ml.neural_network import NeuralNetworkClassifier\n",
    "from optiml.ml.neural_network.layers import FullyConnected\n",
    "from optiml.ml.neural_network.activations import *\n",
    "from optiml.ml.neural_network.losses import *\n",
    "from optiml.ml.neural_network.regularizers import L2\n",
    "from optiml.ml.utils import plot_model_loss, plot_model_accuracy\n",
    "\n",
    "from optiml.opti.unconstrained.line_search import *\n",
    "from optiml.opti.unconstrained.stochastic import *\n",
    "\n",
    "from sklearn.datasets import fetch_openml\n",
    "from sklearn.preprocessing import OneHotEncoder\n",
    "from sklearn.metrics import accuracy_score"
   ]
  },
  {
   "cell_type": "markdown",
   "metadata": {},
   "source": [
    "##### Monk #1"
   ]
  },
  {
   "cell_type": "code",
   "execution_count": 23,
   "metadata": {
    "hideCode": true,
    "hidePrompt": true
   },
   "outputs": [],
   "source": [
    "X, y = fetch_openml('monks-problems-1', return_X_y=True)\n",
    "y = y.astype(np.float32)\n",
    "\n",
    "X_train = OneHotEncoder(sparse=False).fit_transform(X[:124,:])\n",
    "X_test = OneHotEncoder(sparse=False).fit_transform(X[124:,:])\n",
    "y_train, y_test = y[:124], y[124:]"
   ]
  },
  {
   "cell_type": "code",
   "execution_count": 24,
   "metadata": {
    "hidePrompt": true
   },
   "outputs": [
    {
     "data": {
      "image/png": "[encoded data removed]",
      "text/plain": [
       "<Figure size 432x288 with 1 Axes>"
      ]
     },
     "metadata": {},
     "output_type": "display_data"
    },
    {
     "data": {
      "image/png": "[encoded data removed]",
      "text/plain": [
       "<Figure size 432x288 with 1 Axes>"
      ]
     },
     "metadata": {},
     "output_type": "display_data"
    },
    {
     "name": "stdout",
     "output_type": "stream",
     "text": [
      "accuracy: 1.0\n"
     ]
    }
   ],
   "source": [
    "net = NeuralNetworkClassifier((FullyConnected(17, 5, sigmoid),\n",
    "                               FullyConnected(5, 1, sigmoid)),\n",
    "                              loss=mean_squared_error, optimizer=Adam, \n",
    "                              learning_rate=0.01, early_stopping=False, \n",
    "                              validation_split=0.2, max_iter=1000, verbose=False)\n",
    "net.fit(X_train, y_train)\n",
    "plot_model_loss(net.train_loss_history, net.val_loss_history)\n",
    "plot_model_accuracy(net.train_score_history, net.val_score_history)\n",
    "print(f'accuracy: {accuracy_score(y_test, net.predict(X_test))}')"
   ]
  },
  {
   "cell_type": "markdown",
   "metadata": {},
   "source": [
    "##### Monk #2"
   ]
  },
  {
   "cell_type": "code",
   "execution_count": null,
   "metadata": {
    "hideCode": true,
    "hidePrompt": true
   },
   "outputs": [],
   "source": [
    "X, y = fetch_openml('monks-problems-2', return_X_y=True)\n",
    "y = y.astype(np.float32)\n",
    "\n",
    "X_train = OneHotEncoder(sparse=False).fit_transform(X[:169,:])\n",
    "X_test = OneHotEncoder(sparse=False).fit_transform(X[169:,:])\n",
    "y_train, y_test = y[:169], y[169:]"
   ]
  },
  {
   "cell_type": "code",
   "execution_count": 27,
   "metadata": {
    "hidePrompt": true
   },
   "outputs": [
    {
     "data": {
      "image/png": "[encoded data removed]",
      "text/plain": [
       "<Figure size 432x288 with 1 Axes>"
      ]
     },
     "metadata": {},
     "output_type": "display_data"
    },
    {
     "data": {
      "image/png": "[encoded data removed]",
      "text/plain": [
       "<Figure size 432x288 with 1 Axes>"
      ]
     },
     "metadata": {},
     "output_type": "display_data"
    },
    {
     "name": "stdout",
     "output_type": "stream",
     "text": [
      "accuracy: 1.0\n"
     ]
    }
   ],
   "source": [
    "net = NeuralNetworkClassifier((FullyConnected(17, 5, sigmoid),\n",
    "                               FullyConnected(5, 2, softmax)),\n",
    "                              loss=sparse_categorical_cross_entropy, \n",
    "                              optimizer=StochasticGradientDescent, \n",
    "                              learning_rate=0.1, early_stopping=False, \n",
    "                              momentum_type='nesterov', momentum=0.9, \n",
    "                              validation_split=0.2, max_iter=1000, verbose=False)\n",
    "net.fit(X_train, y_train)\n",
    "plot_model_loss(net.train_loss_history, net.val_loss_history)\n",
    "plot_model_accuracy(net.train_score_history, net.val_score_history)\n",
    "print(f'accuracy: {accuracy_score(y_test, net.predict(X_test))}')"
   ]
  },
  {
   "cell_type": "markdown",
   "metadata": {
    "hideCode": false
   },
   "source": [
    "##### Monk #3"
   ]
  },
  {
   "cell_type": "code",
   "execution_count": 5,
   "metadata": {
    "hideCode": true,
    "hideOutput": false,
    "hidePrompt": true
   },
   "outputs": [],
   "source": [
    "X, y = fetch_openml('monks-problems-3', return_X_y=True)\n",
    "y = y.astype(np.float32)\n",
    "\n",
    "X_train = OneHotEncoder(sparse=False).fit_transform(X[:122,:])\n",
    "X_test = OneHotEncoder(sparse=False).fit_transform(X[122:,:])\n",
    "y_train, y_test = y[:122], y[122:]"
   ]
  },
  {
   "cell_type": "code",
   "execution_count": 14,
   "metadata": {
    "hidePrompt": true
   },
   "outputs": [
    {
     "name": "stdout",
     "output_type": "stream",
     "text": [
      "accuracy: 0.9375\n"
     ]
    }
   ],
   "source": [
    "net = NeuralNetworkClassifier((FullyConnected(17, 10, sigmoid, coef_reg=L2(0.01)),\n",
    "                               FullyConnected(10, 1, sigmoid, coef_reg=L2(0.01))),\n",
    "                              loss=mean_squared_error, optimizer=BFGS, \n",
    "                              max_iter=500, verbose=False)\n",
    "net.fit(X_train, y_train)\n",
    "print(f'accuracy: {accuracy_score(y_test, net.predict(X_test))}')"
   ]
  },
  {
   "cell_type": "markdown",
   "metadata": {},
   "source": [
    "### ML-CUP19"
   ]
  },
  {
   "cell_type": "markdown",
   "metadata": {},
   "source": [
    "In this second section of the report, we are going to show how to perform the grid search on ML-CUP19 to find the hyperparameters which best generalize the model on the unseen data."
   ]
  },
  {
   "cell_type": "code",
   "execution_count": 3,
   "metadata": {
    "hideCode": true,
    "hidePrompt": true
   },
   "outputs": [],
   "source": [
    "import numpy as np\n",
    "\n",
    "def load_ml_cup():\n",
    "    ml_cup = np.delete(np.genfromtxt(module_path + '/optiml/ml/data/ML-CUP19/ML-CUP19-TR.csv', \n",
    "                                     delimiter=','), obj=0, axis=1)\n",
    "    return ml_cup[:, :-2], ml_cup[:, -2:]\n",
    "\n",
    "def load_ml_cup_blind():\n",
    "    return np.delete(np.genfromtxt(module_path + '/optiml/ml/data/ML-CUP19/ML-CUP19-TS.csv',\n",
    "                                   delimiter=','), obj=0, axis=1)\n",
    "\n",
    "def mean_euclidean_error(y_true, y_pred):\n",
    "    assert y_true.shape == y_pred.shape\n",
    "    return np.mean(np.linalg.norm(y_pred - y_true, axis=1))"
   ]
  },
  {
   "cell_type": "markdown",
   "metadata": {},
   "source": [
    "The hyperparameters which needs to be tuned are the kernel, the $\\epsilon$-insensitive value, the regularization term $C$ and $\\gamma$ which define how far the influence of a single training example reaches (low values meaning ‘far’ and high values meaning ‘close’).\n",
    "\n",
    "Defining the range of values that are typically chosen to perform an exhaustive grid search:"
   ]
  },
  {
   "cell_type": "code",
   "execution_count": 4,
   "metadata": {
    "hidePrompt": true
   },
   "outputs": [],
   "source": [
    "epsilon_range = [0.001, 0.01, 0.1, 0.2, 0.3, 0.4, 0.5]\n",
    "gamma_range = [0.0001, 0.001, 0.01, 0.1, 1, 'auto', 'scale']\n",
    "C_range = [0.1, 1, 10, 100, 1000]"
   ]
  },
  {
   "cell_type": "markdown",
   "metadata": {},
   "source": [
    "where the keywords 'auto' and 'scale' means *1 / n_features* and *1 / (n_features * X.var())* respectively."
   ]
  },
  {
   "cell_type": "markdown",
   "metadata": {},
   "source": [
    "The dataset is divided into *development set* and *evaluation set* (TS) which corresponds to the 80% and 20% respectively.\n",
    "\n",
    "Then, I performed a 5 fold cross validation which further divides the development set into *training* (TR) and *validation* (VL) set."
   ]
  },
  {
   "cell_type": "code",
   "execution_count": 7,
   "metadata": {
    "hideCode": true,
    "hidePrompt": true
   },
   "outputs": [],
   "source": [
    "from optiml.ml.svm import DualSVR\n",
    "from optiml.ml.svm.kernels import gaussian\n",
    "\n",
    "from sklearn.metrics import make_scorer\n",
    "from sklearn.model_selection import train_test_split, GridSearchCV\n",
    "from sklearn.multioutput import MultiOutputRegressor"
   ]
  },
  {
   "cell_type": "code",
   "execution_count": 9,
   "metadata": {
    "hideCode": false,
    "hideOutput": true,
    "hidePrompt": true
   },
   "outputs": [
    {
     "name": "stdout",
     "output_type": "stream",
     "text": [
      "Fitting 5 folds for each of 245 candidates, totalling 1225 fits\n"
     ]
    },
    {
     "name": "stderr",
     "output_type": "stream",
     "text": [
      "[Parallel(n_jobs=-1)]: Using backend LokyBackend with 8 concurrent workers.\n",
      "[Parallel(n_jobs=-1)]: Done  34 tasks      | elapsed:    3.4s\n",
      "[Parallel(n_jobs=-1)]: Done 184 tasks      | elapsed:   10.3s\n",
      "[Parallel(n_jobs=-1)]: Done 434 tasks      | elapsed:   22.1s\n",
      "[Parallel(n_jobs=-1)]: Done 784 tasks      | elapsed:   48.6s\n",
      "[Parallel(n_jobs=-1)]: Done 1225 out of 1225 | elapsed:  5.4min finished\n"
     ]
    }
   ],
   "source": [
    "X, y = load_ml_cup()\n",
    "\n",
    "X_train, X_test, y_train, y_test = train_test_split(X, y, test_size=0.2)\n",
    "\n",
    "tuned_parameters = {'estimator__kernel': [gaussian],\n",
    "                    'estimator__epsilon': epsilon_range,\n",
    "                    'estimator__kernel__gamma': gamma_range,\n",
    "                    'estimator__C': C_range}\n",
    "\n",
    "neg_mean_euclidean_error = make_scorer(mean_euclidean_error, greater_is_better=False)\n",
    "\n",
    "grid = GridSearchCV(MultiOutputRegressor(DualSVR()),\n",
    "                    param_grid=tuned_parameters,\n",
    "                    scoring=neg_mean_euclidean_error,\n",
    "                    cv=5,  # 5 fold cross validation\n",
    "                    n_jobs=-1,  # use all processors\n",
    "                    refit=True,  # refit the best model on the full development set\n",
    "                    return_train_score=True,\n",
    "                    verbose=True).fit(X_train, y_train)"
   ]
  },
  {
   "cell_type": "markdown",
   "metadata": {},
   "source": [
    "The best parameter set found on development set and the best 30 estimators with their relative *train* (TR) and *validation* (VL) scores are:"
   ]
  },
  {
   "cell_type": "code",
   "execution_count": 13,
   "metadata": {
    "hideCode": true,
    "hidePrompt": true
   },
   "outputs": [
    {
     "data": {
      "text/html": [
       "<style  type=\"text/css\" >\n",
       "    #T_c064faf4_b891_11ea_af20_0b999197675brow0_col0 {\n",
       "            background-color:  lightyellow;\n",
       "        }    #T_c064faf4_b891_11ea_af20_0b999197675brow0_col1 {\n",
       "            background-color:  lightyellow;\n",
       "        }    #T_c064faf4_b891_11ea_af20_0b999197675brow0_col2 {\n",
       "            background-color:  lightyellow;\n",
       "        }    #T_c064faf4_b891_11ea_af20_0b999197675brow0_col3 {\n",
       "            background-color:  lightyellow;\n",
       "        }    #T_c064faf4_b891_11ea_af20_0b999197675brow0_col4 {\n",
       "            background-color:  lightyellow;\n",
       "        }    #T_c064faf4_b891_11ea_af20_0b999197675brow0_col5 {\n",
       "            background-color:  lightyellow;\n",
       "        }    #T_c064faf4_b891_11ea_af20_0b999197675brow0_col6 {\n",
       "            background-color:  lightyellow;\n",
       "        }</style><table id=\"T_c064faf4_b891_11ea_af20_0b999197675b\" ><thead>    <tr>        <th class=\"col_heading level0 col0\" >kernel</th>        <th class=\"col_heading level0 col1\" >epsilon</th>        <th class=\"col_heading level0 col2\" >C</th>        <th class=\"col_heading level0 col3\" >gamma</th>        <th class=\"col_heading level0 col4\" >mean_train_score</th>        <th class=\"col_heading level0 col5\" >mean_val_score</th>        <th class=\"col_heading level0 col6\" >rank_val_score</th>    </tr></thead><tbody>\n",
       "                <tr>\n",
       "                                <td id=\"T_c064faf4_b891_11ea_af20_0b999197675brow0_col0\" class=\"data row0 col0\" >gaussian</td>\n",
       "                        <td id=\"T_c064faf4_b891_11ea_af20_0b999197675brow0_col1\" class=\"data row0 col1\" >0.010000</td>\n",
       "                        <td id=\"T_c064faf4_b891_11ea_af20_0b999197675brow0_col2\" class=\"data row0 col2\" >100</td>\n",
       "                        <td id=\"T_c064faf4_b891_11ea_af20_0b999197675brow0_col3\" class=\"data row0 col3\" >0.100000</td>\n",
       "                        <td id=\"T_c064faf4_b891_11ea_af20_0b999197675brow0_col4\" class=\"data row0 col4\" >0.316984</td>\n",
       "                        <td id=\"T_c064faf4_b891_11ea_af20_0b999197675brow0_col5\" class=\"data row0 col5\" >0.964518</td>\n",
       "                        <td id=\"T_c064faf4_b891_11ea_af20_0b999197675brow0_col6\" class=\"data row0 col6\" >1</td>\n",
       "            </tr>\n",
       "            <tr>\n",
       "                                <td id=\"T_c064faf4_b891_11ea_af20_0b999197675brow1_col0\" class=\"data row1 col0\" >gaussian</td>\n",
       "                        <td id=\"T_c064faf4_b891_11ea_af20_0b999197675brow1_col1\" class=\"data row1 col1\" >0.001000</td>\n",
       "                        <td id=\"T_c064faf4_b891_11ea_af20_0b999197675brow1_col2\" class=\"data row1 col2\" >100</td>\n",
       "                        <td id=\"T_c064faf4_b891_11ea_af20_0b999197675brow1_col3\" class=\"data row1 col3\" >0.100000</td>\n",
       "                        <td id=\"T_c064faf4_b891_11ea_af20_0b999197675brow1_col4\" class=\"data row1 col4\" >0.311606</td>\n",
       "                        <td id=\"T_c064faf4_b891_11ea_af20_0b999197675brow1_col5\" class=\"data row1 col5\" >0.965385</td>\n",
       "                        <td id=\"T_c064faf4_b891_11ea_af20_0b999197675brow1_col6\" class=\"data row1 col6\" >2</td>\n",
       "            </tr>\n",
       "            <tr>\n",
       "                                <td id=\"T_c064faf4_b891_11ea_af20_0b999197675brow2_col0\" class=\"data row2 col0\" >gaussian</td>\n",
       "                        <td id=\"T_c064faf4_b891_11ea_af20_0b999197675brow2_col1\" class=\"data row2 col1\" >0.100000</td>\n",
       "                        <td id=\"T_c064faf4_b891_11ea_af20_0b999197675brow2_col2\" class=\"data row2 col2\" >100</td>\n",
       "                        <td id=\"T_c064faf4_b891_11ea_af20_0b999197675brow2_col3\" class=\"data row2 col3\" >0.100000</td>\n",
       "                        <td id=\"T_c064faf4_b891_11ea_af20_0b999197675brow2_col4\" class=\"data row2 col4\" >0.383758</td>\n",
       "                        <td id=\"T_c064faf4_b891_11ea_af20_0b999197675brow2_col5\" class=\"data row2 col5\" >0.968672</td>\n",
       "                        <td id=\"T_c064faf4_b891_11ea_af20_0b999197675brow2_col6\" class=\"data row2 col6\" >3</td>\n",
       "            </tr>\n",
       "            <tr>\n",
       "                                <td id=\"T_c064faf4_b891_11ea_af20_0b999197675brow3_col0\" class=\"data row3 col0\" >gaussian</td>\n",
       "                        <td id=\"T_c064faf4_b891_11ea_af20_0b999197675brow3_col1\" class=\"data row3 col1\" >0.200000</td>\n",
       "                        <td id=\"T_c064faf4_b891_11ea_af20_0b999197675brow3_col2\" class=\"data row3 col2\" >100</td>\n",
       "                        <td id=\"T_c064faf4_b891_11ea_af20_0b999197675brow3_col3\" class=\"data row3 col3\" >0.100000</td>\n",
       "                        <td id=\"T_c064faf4_b891_11ea_af20_0b999197675brow3_col4\" class=\"data row3 col4\" >0.458223</td>\n",
       "                        <td id=\"T_c064faf4_b891_11ea_af20_0b999197675brow3_col5\" class=\"data row3 col5\" >0.986198</td>\n",
       "                        <td id=\"T_c064faf4_b891_11ea_af20_0b999197675brow3_col6\" class=\"data row3 col6\" >4</td>\n",
       "            </tr>\n",
       "            <tr>\n",
       "                                <td id=\"T_c064faf4_b891_11ea_af20_0b999197675brow4_col0\" class=\"data row4 col0\" >gaussian</td>\n",
       "                        <td id=\"T_c064faf4_b891_11ea_af20_0b999197675brow4_col1\" class=\"data row4 col1\" >0.100000</td>\n",
       "                        <td id=\"T_c064faf4_b891_11ea_af20_0b999197675brow4_col2\" class=\"data row4 col2\" >10</td>\n",
       "                        <td id=\"T_c064faf4_b891_11ea_af20_0b999197675brow4_col3\" class=\"data row4 col3\" >0.100000</td>\n",
       "                        <td id=\"T_c064faf4_b891_11ea_af20_0b999197675brow4_col4\" class=\"data row4 col4\" >0.680778</td>\n",
       "                        <td id=\"T_c064faf4_b891_11ea_af20_0b999197675brow4_col5\" class=\"data row4 col5\" >0.993998</td>\n",
       "                        <td id=\"T_c064faf4_b891_11ea_af20_0b999197675brow4_col6\" class=\"data row4 col6\" >5</td>\n",
       "            </tr>\n",
       "            <tr>\n",
       "                                <td id=\"T_c064faf4_b891_11ea_af20_0b999197675brow5_col0\" class=\"data row5 col0\" >gaussian</td>\n",
       "                        <td id=\"T_c064faf4_b891_11ea_af20_0b999197675brow5_col1\" class=\"data row5 col1\" >0.010000</td>\n",
       "                        <td id=\"T_c064faf4_b891_11ea_af20_0b999197675brow5_col2\" class=\"data row5 col2\" >10</td>\n",
       "                        <td id=\"T_c064faf4_b891_11ea_af20_0b999197675brow5_col3\" class=\"data row5 col3\" >0.100000</td>\n",
       "                        <td id=\"T_c064faf4_b891_11ea_af20_0b999197675brow5_col4\" class=\"data row5 col4\" >0.650632</td>\n",
       "                        <td id=\"T_c064faf4_b891_11ea_af20_0b999197675brow5_col5\" class=\"data row5 col5\" >0.997121</td>\n",
       "                        <td id=\"T_c064faf4_b891_11ea_af20_0b999197675brow5_col6\" class=\"data row5 col6\" >6</td>\n",
       "            </tr>\n",
       "            <tr>\n",
       "                                <td id=\"T_c064faf4_b891_11ea_af20_0b999197675brow6_col0\" class=\"data row6 col0\" >gaussian</td>\n",
       "                        <td id=\"T_c064faf4_b891_11ea_af20_0b999197675brow6_col1\" class=\"data row6 col1\" >0.001000</td>\n",
       "                        <td id=\"T_c064faf4_b891_11ea_af20_0b999197675brow6_col2\" class=\"data row6 col2\" >10</td>\n",
       "                        <td id=\"T_c064faf4_b891_11ea_af20_0b999197675brow6_col3\" class=\"data row6 col3\" >0.100000</td>\n",
       "                        <td id=\"T_c064faf4_b891_11ea_af20_0b999197675brow6_col4\" class=\"data row6 col4\" >0.648642</td>\n",
       "                        <td id=\"T_c064faf4_b891_11ea_af20_0b999197675brow6_col5\" class=\"data row6 col5\" >0.998054</td>\n",
       "                        <td id=\"T_c064faf4_b891_11ea_af20_0b999197675brow6_col6\" class=\"data row6 col6\" >7</td>\n",
       "            </tr>\n",
       "            <tr>\n",
       "                                <td id=\"T_c064faf4_b891_11ea_af20_0b999197675brow7_col0\" class=\"data row7 col0\" >gaussian</td>\n",
       "                        <td id=\"T_c064faf4_b891_11ea_af20_0b999197675brow7_col1\" class=\"data row7 col1\" >0.200000</td>\n",
       "                        <td id=\"T_c064faf4_b891_11ea_af20_0b999197675brow7_col2\" class=\"data row7 col2\" >10</td>\n",
       "                        <td id=\"T_c064faf4_b891_11ea_af20_0b999197675brow7_col3\" class=\"data row7 col3\" >0.100000</td>\n",
       "                        <td id=\"T_c064faf4_b891_11ea_af20_0b999197675brow7_col4\" class=\"data row7 col4\" >0.719074</td>\n",
       "                        <td id=\"T_c064faf4_b891_11ea_af20_0b999197675brow7_col5\" class=\"data row7 col5\" >0.999083</td>\n",
       "                        <td id=\"T_c064faf4_b891_11ea_af20_0b999197675brow7_col6\" class=\"data row7 col6\" >8</td>\n",
       "            </tr>\n",
       "            <tr>\n",
       "                                <td id=\"T_c064faf4_b891_11ea_af20_0b999197675brow8_col0\" class=\"data row8 col0\" >gaussian</td>\n",
       "                        <td id=\"T_c064faf4_b891_11ea_af20_0b999197675brow8_col1\" class=\"data row8 col1\" >0.300000</td>\n",
       "                        <td id=\"T_c064faf4_b891_11ea_af20_0b999197675brow8_col2\" class=\"data row8 col2\" >100</td>\n",
       "                        <td id=\"T_c064faf4_b891_11ea_af20_0b999197675brow8_col3\" class=\"data row8 col3\" >0.100000</td>\n",
       "                        <td id=\"T_c064faf4_b891_11ea_af20_0b999197675brow8_col4\" class=\"data row8 col4\" >0.531236</td>\n",
       "                        <td id=\"T_c064faf4_b891_11ea_af20_0b999197675brow8_col5\" class=\"data row8 col5\" >1.005206</td>\n",
       "                        <td id=\"T_c064faf4_b891_11ea_af20_0b999197675brow8_col6\" class=\"data row8 col6\" >9</td>\n",
       "            </tr>\n",
       "            <tr>\n",
       "                                <td id=\"T_c064faf4_b891_11ea_af20_0b999197675brow9_col0\" class=\"data row9 col0\" >gaussian</td>\n",
       "                        <td id=\"T_c064faf4_b891_11ea_af20_0b999197675brow9_col1\" class=\"data row9 col1\" >0.300000</td>\n",
       "                        <td id=\"T_c064faf4_b891_11ea_af20_0b999197675brow9_col2\" class=\"data row9 col2\" >10</td>\n",
       "                        <td id=\"T_c064faf4_b891_11ea_af20_0b999197675brow9_col3\" class=\"data row9 col3\" >0.100000</td>\n",
       "                        <td id=\"T_c064faf4_b891_11ea_af20_0b999197675brow9_col4\" class=\"data row9 col4\" >0.757205</td>\n",
       "                        <td id=\"T_c064faf4_b891_11ea_af20_0b999197675brow9_col5\" class=\"data row9 col5\" >1.010135</td>\n",
       "                        <td id=\"T_c064faf4_b891_11ea_af20_0b999197675brow9_col6\" class=\"data row9 col6\" >10</td>\n",
       "            </tr>\n",
       "            <tr>\n",
       "                                <td id=\"T_c064faf4_b891_11ea_af20_0b999197675brow10_col0\" class=\"data row10 col0\" >gaussian</td>\n",
       "                        <td id=\"T_c064faf4_b891_11ea_af20_0b999197675brow10_col1\" class=\"data row10 col1\" >0.100000</td>\n",
       "                        <td id=\"T_c064faf4_b891_11ea_af20_0b999197675brow10_col2\" class=\"data row10 col2\" >100</td>\n",
       "                        <td id=\"T_c064faf4_b891_11ea_af20_0b999197675brow10_col3\" class=\"data row10 col3\" >auto</td>\n",
       "                        <td id=\"T_c064faf4_b891_11ea_af20_0b999197675brow10_col4\" class=\"data row10 col4\" >0.647115</td>\n",
       "                        <td id=\"T_c064faf4_b891_11ea_af20_0b999197675brow10_col5\" class=\"data row10 col5\" >1.013795</td>\n",
       "                        <td id=\"T_c064faf4_b891_11ea_af20_0b999197675brow10_col6\" class=\"data row10 col6\" >11</td>\n",
       "            </tr>\n",
       "            <tr>\n",
       "                                <td id=\"T_c064faf4_b891_11ea_af20_0b999197675brow11_col0\" class=\"data row11 col0\" >gaussian</td>\n",
       "                        <td id=\"T_c064faf4_b891_11ea_af20_0b999197675brow11_col1\" class=\"data row11 col1\" >0.010000</td>\n",
       "                        <td id=\"T_c064faf4_b891_11ea_af20_0b999197675brow11_col2\" class=\"data row11 col2\" >100</td>\n",
       "                        <td id=\"T_c064faf4_b891_11ea_af20_0b999197675brow11_col3\" class=\"data row11 col3\" >auto</td>\n",
       "                        <td id=\"T_c064faf4_b891_11ea_af20_0b999197675brow11_col4\" class=\"data row11 col4\" >0.614777</td>\n",
       "                        <td id=\"T_c064faf4_b891_11ea_af20_0b999197675brow11_col5\" class=\"data row11 col5\" >1.014028</td>\n",
       "                        <td id=\"T_c064faf4_b891_11ea_af20_0b999197675brow11_col6\" class=\"data row11 col6\" >12</td>\n",
       "            </tr>\n",
       "            <tr>\n",
       "                                <td id=\"T_c064faf4_b891_11ea_af20_0b999197675brow12_col0\" class=\"data row12 col0\" >gaussian</td>\n",
       "                        <td id=\"T_c064faf4_b891_11ea_af20_0b999197675brow12_col1\" class=\"data row12 col1\" >0.001000</td>\n",
       "                        <td id=\"T_c064faf4_b891_11ea_af20_0b999197675brow12_col2\" class=\"data row12 col2\" >100</td>\n",
       "                        <td id=\"T_c064faf4_b891_11ea_af20_0b999197675brow12_col3\" class=\"data row12 col3\" >auto</td>\n",
       "                        <td id=\"T_c064faf4_b891_11ea_af20_0b999197675brow12_col4\" class=\"data row12 col4\" >0.612484</td>\n",
       "                        <td id=\"T_c064faf4_b891_11ea_af20_0b999197675brow12_col5\" class=\"data row12 col5\" >1.014791</td>\n",
       "                        <td id=\"T_c064faf4_b891_11ea_af20_0b999197675brow12_col6\" class=\"data row12 col6\" >13</td>\n",
       "            </tr>\n",
       "            <tr>\n",
       "                                <td id=\"T_c064faf4_b891_11ea_af20_0b999197675brow13_col0\" class=\"data row13 col0\" >gaussian</td>\n",
       "                        <td id=\"T_c064faf4_b891_11ea_af20_0b999197675brow13_col1\" class=\"data row13 col1\" >0.010000</td>\n",
       "                        <td id=\"T_c064faf4_b891_11ea_af20_0b999197675brow13_col2\" class=\"data row13 col2\" >100</td>\n",
       "                        <td id=\"T_c064faf4_b891_11ea_af20_0b999197675brow13_col3\" class=\"data row13 col3\" >scale</td>\n",
       "                        <td id=\"T_c064faf4_b891_11ea_af20_0b999197675brow13_col4\" class=\"data row13 col4\" >0.629916</td>\n",
       "                        <td id=\"T_c064faf4_b891_11ea_af20_0b999197675brow13_col5\" class=\"data row13 col5\" >1.015674</td>\n",
       "                        <td id=\"T_c064faf4_b891_11ea_af20_0b999197675brow13_col6\" class=\"data row13 col6\" >14</td>\n",
       "            </tr>\n",
       "            <tr>\n",
       "                                <td id=\"T_c064faf4_b891_11ea_af20_0b999197675brow14_col0\" class=\"data row14 col0\" >gaussian</td>\n",
       "                        <td id=\"T_c064faf4_b891_11ea_af20_0b999197675brow14_col1\" class=\"data row14 col1\" >0.100000</td>\n",
       "                        <td id=\"T_c064faf4_b891_11ea_af20_0b999197675brow14_col2\" class=\"data row14 col2\" >100</td>\n",
       "                        <td id=\"T_c064faf4_b891_11ea_af20_0b999197675brow14_col3\" class=\"data row14 col3\" >scale</td>\n",
       "                        <td id=\"T_c064faf4_b891_11ea_af20_0b999197675brow14_col4\" class=\"data row14 col4\" >0.660441</td>\n",
       "                        <td id=\"T_c064faf4_b891_11ea_af20_0b999197675brow14_col5\" class=\"data row14 col5\" >1.015711</td>\n",
       "                        <td id=\"T_c064faf4_b891_11ea_af20_0b999197675brow14_col6\" class=\"data row14 col6\" >15</td>\n",
       "            </tr>\n",
       "            <tr>\n",
       "                                <td id=\"T_c064faf4_b891_11ea_af20_0b999197675brow15_col0\" class=\"data row15 col0\" >gaussian</td>\n",
       "                        <td id=\"T_c064faf4_b891_11ea_af20_0b999197675brow15_col1\" class=\"data row15 col1\" >0.200000</td>\n",
       "                        <td id=\"T_c064faf4_b891_11ea_af20_0b999197675brow15_col2\" class=\"data row15 col2\" >100</td>\n",
       "                        <td id=\"T_c064faf4_b891_11ea_af20_0b999197675brow15_col3\" class=\"data row15 col3\" >auto</td>\n",
       "                        <td id=\"T_c064faf4_b891_11ea_af20_0b999197675brow15_col4\" class=\"data row15 col4\" >0.686856</td>\n",
       "                        <td id=\"T_c064faf4_b891_11ea_af20_0b999197675brow15_col5\" class=\"data row15 col5\" >1.015713</td>\n",
       "                        <td id=\"T_c064faf4_b891_11ea_af20_0b999197675brow15_col6\" class=\"data row15 col6\" >16</td>\n",
       "            </tr>\n",
       "            <tr>\n",
       "                                <td id=\"T_c064faf4_b891_11ea_af20_0b999197675brow16_col0\" class=\"data row16 col0\" >gaussian</td>\n",
       "                        <td id=\"T_c064faf4_b891_11ea_af20_0b999197675brow16_col1\" class=\"data row16 col1\" >0.001000</td>\n",
       "                        <td id=\"T_c064faf4_b891_11ea_af20_0b999197675brow16_col2\" class=\"data row16 col2\" >100</td>\n",
       "                        <td id=\"T_c064faf4_b891_11ea_af20_0b999197675brow16_col3\" class=\"data row16 col3\" >scale</td>\n",
       "                        <td id=\"T_c064faf4_b891_11ea_af20_0b999197675brow16_col4\" class=\"data row16 col4\" >0.627833</td>\n",
       "                        <td id=\"T_c064faf4_b891_11ea_af20_0b999197675brow16_col5\" class=\"data row16 col5\" >1.016120</td>\n",
       "                        <td id=\"T_c064faf4_b891_11ea_af20_0b999197675brow16_col6\" class=\"data row16 col6\" >17</td>\n",
       "            </tr>\n",
       "            <tr>\n",
       "                                <td id=\"T_c064faf4_b891_11ea_af20_0b999197675brow17_col0\" class=\"data row17 col0\" >gaussian</td>\n",
       "                        <td id=\"T_c064faf4_b891_11ea_af20_0b999197675brow17_col1\" class=\"data row17 col1\" >0.200000</td>\n",
       "                        <td id=\"T_c064faf4_b891_11ea_af20_0b999197675brow17_col2\" class=\"data row17 col2\" >100</td>\n",
       "                        <td id=\"T_c064faf4_b891_11ea_af20_0b999197675brow17_col3\" class=\"data row17 col3\" >scale</td>\n",
       "                        <td id=\"T_c064faf4_b891_11ea_af20_0b999197675brow17_col4\" class=\"data row17 col4\" >0.699173</td>\n",
       "                        <td id=\"T_c064faf4_b891_11ea_af20_0b999197675brow17_col5\" class=\"data row17 col5\" >1.016466</td>\n",
       "                        <td id=\"T_c064faf4_b891_11ea_af20_0b999197675brow17_col6\" class=\"data row17 col6\" >18</td>\n",
       "            </tr>\n",
       "            <tr>\n",
       "                                <td id=\"T_c064faf4_b891_11ea_af20_0b999197675brow18_col0\" class=\"data row18 col0\" >gaussian</td>\n",
       "                        <td id=\"T_c064faf4_b891_11ea_af20_0b999197675brow18_col1\" class=\"data row18 col1\" >0.400000</td>\n",
       "                        <td id=\"T_c064faf4_b891_11ea_af20_0b999197675brow18_col2\" class=\"data row18 col2\" >10</td>\n",
       "                        <td id=\"T_c064faf4_b891_11ea_af20_0b999197675brow18_col3\" class=\"data row18 col3\" >0.100000</td>\n",
       "                        <td id=\"T_c064faf4_b891_11ea_af20_0b999197675brow18_col4\" class=\"data row18 col4\" >0.796324</td>\n",
       "                        <td id=\"T_c064faf4_b891_11ea_af20_0b999197675brow18_col5\" class=\"data row18 col5\" >1.022168</td>\n",
       "                        <td id=\"T_c064faf4_b891_11ea_af20_0b999197675brow18_col6\" class=\"data row18 col6\" >19</td>\n",
       "            </tr>\n",
       "            <tr>\n",
       "                                <td id=\"T_c064faf4_b891_11ea_af20_0b999197675brow19_col0\" class=\"data row19 col0\" >gaussian</td>\n",
       "                        <td id=\"T_c064faf4_b891_11ea_af20_0b999197675brow19_col1\" class=\"data row19 col1\" >0.400000</td>\n",
       "                        <td id=\"T_c064faf4_b891_11ea_af20_0b999197675brow19_col2\" class=\"data row19 col2\" >100</td>\n",
       "                        <td id=\"T_c064faf4_b891_11ea_af20_0b999197675brow19_col3\" class=\"data row19 col3\" >0.100000</td>\n",
       "                        <td id=\"T_c064faf4_b891_11ea_af20_0b999197675brow19_col4\" class=\"data row19 col4\" >0.600393</td>\n",
       "                        <td id=\"T_c064faf4_b891_11ea_af20_0b999197675brow19_col5\" class=\"data row19 col5\" >1.025199</td>\n",
       "                        <td id=\"T_c064faf4_b891_11ea_af20_0b999197675brow19_col6\" class=\"data row19 col6\" >20</td>\n",
       "            </tr>\n",
       "            <tr>\n",
       "                                <td id=\"T_c064faf4_b891_11ea_af20_0b999197675brow20_col0\" class=\"data row20 col0\" >gaussian</td>\n",
       "                        <td id=\"T_c064faf4_b891_11ea_af20_0b999197675brow20_col1\" class=\"data row20 col1\" >0.300000</td>\n",
       "                        <td id=\"T_c064faf4_b891_11ea_af20_0b999197675brow20_col2\" class=\"data row20 col2\" >100</td>\n",
       "                        <td id=\"T_c064faf4_b891_11ea_af20_0b999197675brow20_col3\" class=\"data row20 col3\" >auto</td>\n",
       "                        <td id=\"T_c064faf4_b891_11ea_af20_0b999197675brow20_col4\" class=\"data row20 col4\" >0.727006</td>\n",
       "                        <td id=\"T_c064faf4_b891_11ea_af20_0b999197675brow20_col5\" class=\"data row20 col5\" >1.026970</td>\n",
       "                        <td id=\"T_c064faf4_b891_11ea_af20_0b999197675brow20_col6\" class=\"data row20 col6\" >21</td>\n",
       "            </tr>\n",
       "            <tr>\n",
       "                                <td id=\"T_c064faf4_b891_11ea_af20_0b999197675brow21_col0\" class=\"data row21 col0\" >gaussian</td>\n",
       "                        <td id=\"T_c064faf4_b891_11ea_af20_0b999197675brow21_col1\" class=\"data row21 col1\" >0.300000</td>\n",
       "                        <td id=\"T_c064faf4_b891_11ea_af20_0b999197675brow21_col2\" class=\"data row21 col2\" >100</td>\n",
       "                        <td id=\"T_c064faf4_b891_11ea_af20_0b999197675brow21_col3\" class=\"data row21 col3\" >scale</td>\n",
       "                        <td id=\"T_c064faf4_b891_11ea_af20_0b999197675brow21_col4\" class=\"data row21 col4\" >0.737788</td>\n",
       "                        <td id=\"T_c064faf4_b891_11ea_af20_0b999197675brow21_col5\" class=\"data row21 col5\" >1.028239</td>\n",
       "                        <td id=\"T_c064faf4_b891_11ea_af20_0b999197675brow21_col6\" class=\"data row21 col6\" >22</td>\n",
       "            </tr>\n",
       "            <tr>\n",
       "                                <td id=\"T_c064faf4_b891_11ea_af20_0b999197675brow22_col0\" class=\"data row22 col0\" >gaussian</td>\n",
       "                        <td id=\"T_c064faf4_b891_11ea_af20_0b999197675brow22_col1\" class=\"data row22 col1\" >0.400000</td>\n",
       "                        <td id=\"T_c064faf4_b891_11ea_af20_0b999197675brow22_col2\" class=\"data row22 col2\" >100</td>\n",
       "                        <td id=\"T_c064faf4_b891_11ea_af20_0b999197675brow22_col3\" class=\"data row22 col3\" >auto</td>\n",
       "                        <td id=\"T_c064faf4_b891_11ea_af20_0b999197675brow22_col4\" class=\"data row22 col4\" >0.766196</td>\n",
       "                        <td id=\"T_c064faf4_b891_11ea_af20_0b999197675brow22_col5\" class=\"data row22 col5\" >1.039775</td>\n",
       "                        <td id=\"T_c064faf4_b891_11ea_af20_0b999197675brow22_col6\" class=\"data row22 col6\" >23</td>\n",
       "            </tr>\n",
       "            <tr>\n",
       "                                <td id=\"T_c064faf4_b891_11ea_af20_0b999197675brow23_col0\" class=\"data row23 col0\" >gaussian</td>\n",
       "                        <td id=\"T_c064faf4_b891_11ea_af20_0b999197675brow23_col1\" class=\"data row23 col1\" >0.400000</td>\n",
       "                        <td id=\"T_c064faf4_b891_11ea_af20_0b999197675brow23_col2\" class=\"data row23 col2\" >100</td>\n",
       "                        <td id=\"T_c064faf4_b891_11ea_af20_0b999197675brow23_col3\" class=\"data row23 col3\" >scale</td>\n",
       "                        <td id=\"T_c064faf4_b891_11ea_af20_0b999197675brow23_col4\" class=\"data row23 col4\" >0.775993</td>\n",
       "                        <td id=\"T_c064faf4_b891_11ea_af20_0b999197675brow23_col5\" class=\"data row23 col5\" >1.040869</td>\n",
       "                        <td id=\"T_c064faf4_b891_11ea_af20_0b999197675brow23_col6\" class=\"data row23 col6\" >24</td>\n",
       "            </tr>\n",
       "            <tr>\n",
       "                                <td id=\"T_c064faf4_b891_11ea_af20_0b999197675brow24_col0\" class=\"data row24 col0\" >gaussian</td>\n",
       "                        <td id=\"T_c064faf4_b891_11ea_af20_0b999197675brow24_col1\" class=\"data row24 col1\" >0.500000</td>\n",
       "                        <td id=\"T_c064faf4_b891_11ea_af20_0b999197675brow24_col2\" class=\"data row24 col2\" >10</td>\n",
       "                        <td id=\"T_c064faf4_b891_11ea_af20_0b999197675brow24_col3\" class=\"data row24 col3\" >0.100000</td>\n",
       "                        <td id=\"T_c064faf4_b891_11ea_af20_0b999197675brow24_col4\" class=\"data row24 col4\" >0.835154</td>\n",
       "                        <td id=\"T_c064faf4_b891_11ea_af20_0b999197675brow24_col5\" class=\"data row24 col5\" >1.045706</td>\n",
       "                        <td id=\"T_c064faf4_b891_11ea_af20_0b999197675brow24_col6\" class=\"data row24 col6\" >25</td>\n",
       "            </tr>\n",
       "            <tr>\n",
       "                                <td id=\"T_c064faf4_b891_11ea_af20_0b999197675brow25_col0\" class=\"data row25 col0\" >gaussian</td>\n",
       "                        <td id=\"T_c064faf4_b891_11ea_af20_0b999197675brow25_col1\" class=\"data row25 col1\" >0.500000</td>\n",
       "                        <td id=\"T_c064faf4_b891_11ea_af20_0b999197675brow25_col2\" class=\"data row25 col2\" >100</td>\n",
       "                        <td id=\"T_c064faf4_b891_11ea_af20_0b999197675brow25_col3\" class=\"data row25 col3\" >0.100000</td>\n",
       "                        <td id=\"T_c064faf4_b891_11ea_af20_0b999197675brow25_col4\" class=\"data row25 col4\" >0.669060</td>\n",
       "                        <td id=\"T_c064faf4_b891_11ea_af20_0b999197675brow25_col5\" class=\"data row25 col5\" >1.048944</td>\n",
       "                        <td id=\"T_c064faf4_b891_11ea_af20_0b999197675brow25_col6\" class=\"data row25 col6\" >26</td>\n",
       "            </tr>\n",
       "            <tr>\n",
       "                                <td id=\"T_c064faf4_b891_11ea_af20_0b999197675brow26_col0\" class=\"data row26 col0\" >gaussian</td>\n",
       "                        <td id=\"T_c064faf4_b891_11ea_af20_0b999197675brow26_col1\" class=\"data row26 col1\" >0.100000</td>\n",
       "                        <td id=\"T_c064faf4_b891_11ea_af20_0b999197675brow26_col2\" class=\"data row26 col2\" >1000</td>\n",
       "                        <td id=\"T_c064faf4_b891_11ea_af20_0b999197675brow26_col3\" class=\"data row26 col3\" >scale</td>\n",
       "                        <td id=\"T_c064faf4_b891_11ea_af20_0b999197675brow26_col4\" class=\"data row26 col4\" >0.410008</td>\n",
       "                        <td id=\"T_c064faf4_b891_11ea_af20_0b999197675brow26_col5\" class=\"data row26 col5\" >1.050594</td>\n",
       "                        <td id=\"T_c064faf4_b891_11ea_af20_0b999197675brow26_col6\" class=\"data row26 col6\" >27</td>\n",
       "            </tr>\n",
       "            <tr>\n",
       "                                <td id=\"T_c064faf4_b891_11ea_af20_0b999197675brow27_col0\" class=\"data row27 col0\" >gaussian</td>\n",
       "                        <td id=\"T_c064faf4_b891_11ea_af20_0b999197675brow27_col1\" class=\"data row27 col1\" >0.010000</td>\n",
       "                        <td id=\"T_c064faf4_b891_11ea_af20_0b999197675brow27_col2\" class=\"data row27 col2\" >1000</td>\n",
       "                        <td id=\"T_c064faf4_b891_11ea_af20_0b999197675brow27_col3\" class=\"data row27 col3\" >scale</td>\n",
       "                        <td id=\"T_c064faf4_b891_11ea_af20_0b999197675brow27_col4\" class=\"data row27 col4\" >0.348852</td>\n",
       "                        <td id=\"T_c064faf4_b891_11ea_af20_0b999197675brow27_col5\" class=\"data row27 col5\" >1.056492</td>\n",
       "                        <td id=\"T_c064faf4_b891_11ea_af20_0b999197675brow27_col6\" class=\"data row27 col6\" >28</td>\n",
       "            </tr>\n",
       "            <tr>\n",
       "                                <td id=\"T_c064faf4_b891_11ea_af20_0b999197675brow28_col0\" class=\"data row28 col0\" >gaussian</td>\n",
       "                        <td id=\"T_c064faf4_b891_11ea_af20_0b999197675brow28_col1\" class=\"data row28 col1\" >0.001000</td>\n",
       "                        <td id=\"T_c064faf4_b891_11ea_af20_0b999197675brow28_col2\" class=\"data row28 col2\" >1000</td>\n",
       "                        <td id=\"T_c064faf4_b891_11ea_af20_0b999197675brow28_col3\" class=\"data row28 col3\" >scale</td>\n",
       "                        <td id=\"T_c064faf4_b891_11ea_af20_0b999197675brow28_col4\" class=\"data row28 col4\" >0.344080</td>\n",
       "                        <td id=\"T_c064faf4_b891_11ea_af20_0b999197675brow28_col5\" class=\"data row28 col5\" >1.058341</td>\n",
       "                        <td id=\"T_c064faf4_b891_11ea_af20_0b999197675brow28_col6\" class=\"data row28 col6\" >29</td>\n",
       "            </tr>\n",
       "            <tr>\n",
       "                                <td id=\"T_c064faf4_b891_11ea_af20_0b999197675brow29_col0\" class=\"data row29 col0\" >gaussian</td>\n",
       "                        <td id=\"T_c064faf4_b891_11ea_af20_0b999197675brow29_col1\" class=\"data row29 col1\" >0.100000</td>\n",
       "                        <td id=\"T_c064faf4_b891_11ea_af20_0b999197675brow29_col2\" class=\"data row29 col2\" >1000</td>\n",
       "                        <td id=\"T_c064faf4_b891_11ea_af20_0b999197675brow29_col3\" class=\"data row29 col3\" >auto</td>\n",
       "                        <td id=\"T_c064faf4_b891_11ea_af20_0b999197675brow29_col4\" class=\"data row29 col4\" >0.395113</td>\n",
       "                        <td id=\"T_c064faf4_b891_11ea_af20_0b999197675brow29_col5\" class=\"data row29 col5\" >1.058497</td>\n",
       "                        <td id=\"T_c064faf4_b891_11ea_af20_0b999197675brow29_col6\" class=\"data row29 col6\" >30</td>\n",
       "            </tr>\n",
       "    </tbody></table>"
      ],
      "text/plain": [
       "<pandas.io.formats.style.Styler at 0x7fbe6f9323a0>"
      ]
     },
     "execution_count": 13,
     "metadata": {},
     "output_type": "execute_result"
    }
   ],
   "source": [
    "import pandas as pd\n",
    "\n",
    "df = pd.DataFrame(grid.cv_results_)[['param_estimator__kernel', 'param_estimator__epsilon', \n",
    "                                     'param_estimator__C', 'param_estimator__gamma', \n",
    "                                     'mean_train_score', 'mean_test_score', \n",
    "                                     'rank_test_score']].sort_values(by='rank_test_score')\n",
    "df.rename(columns={'param_estimator__kernel': 'kernel',\n",
    "                   'param_estimator__epsilon': 'epsilon',\n",
    "                   'param_estimator__C': 'C',\n",
    "                   'param_estimator__gamma': 'gamma',\n",
    "                   'mean_test_score': 'mean_val_score',\n",
    "                   'rank_test_score': 'rank_val_score'}, inplace=True)\n",
    "df.mean_train_score *= -1\n",
    "df.mean_val_score *= -1\n",
    "\n",
    "def highlight_equal(s, value, column):\n",
    "    is_max = pd.Series(data=False, index=s.index)\n",
    "    is_max[column] = s.loc[column] == value\n",
    "    return ['background-color: lightyellow' if is_max.any() else '' for v in is_max]\n",
    "\n",
    "df.head(30).style.apply(highlight_equal, value=1, \n",
    "                        column=['rank_val_score'], axis=1).hide_index()"
   ]
  },
  {
   "cell_type": "markdown",
   "metadata": {
    "hideCode": false
   },
   "source": [
    "Plot learning curve to visualize the effect of the number of observations on the performance metric:"
   ]
  },
  {
   "cell_type": "code",
   "execution_count": 14,
   "metadata": {
    "hideCode": true,
    "hidePrompt": true
   },
   "outputs": [
    {
     "data": {
      "image/png": "[encoded data removed]",
      "text/plain": [
       "<Figure size 432x288 with 1 Axes>"
      ]
     },
     "metadata": {},
     "output_type": "display_data"
    }
   ],
   "source": [
    "from optiml.ml.utils import plot_learning_curve\n",
    "\n",
    "plot_learning_curve(grid.best_estimator_, X, y, make_scorer(mean_euclidean_error))"
   ]
  },
  {
   "cell_type": "markdown",
   "metadata": {},
   "source": [
    "So, the MEE score on the *evaluation set* (TS) is:"
   ]
  },
  {
   "cell_type": "code",
   "execution_count": 15,
   "metadata": {
    "hideCode": false,
    "hidePrompt": true
   },
   "outputs": [
    {
     "data": {
      "text/plain": [
       "1.0112834686076602"
      ]
     },
     "execution_count": 15,
     "metadata": {},
     "output_type": "execute_result"
    }
   ],
   "source": [
    "mean_euclidean_error(grid.best_estimator_.predict(X_test), y_test)"
   ]
  },
  {
   "cell_type": "markdown",
   "metadata": {},
   "source": [
    "Finally, refit the best model on the whole dataset (TR + TS)."
   ]
  },
  {
   "cell_type": "code",
   "execution_count": 16,
   "metadata": {
    "hideOutput": true,
    "hidePrompt": true
   },
   "outputs": [
    {
     "data": {
      "text/plain": [
       "MultiOutputRegressor(estimator=SVR(C=100, epsilon=0.01, gamma=0.1))"
      ]
     },
     "execution_count": 16,
     "metadata": {},
     "output_type": "execute_result"
    }
   ],
   "source": [
    "grid.best_estimator_.fit(X, y)"
   ]
  },
  {
   "cell_type": "code",
   "execution_count": 17,
   "metadata": {
    "hideCode": true,
    "hidePrompt": true
   },
   "outputs": [],
   "source": [
    "import pandas as pd\n",
    "\n",
    "df = pd.DataFrame(grid.best_estimator_.predict(load_ml_cup_blind()))\n",
    "df.index += 1\n",
    "df.to_csv(module_path + '/optiml/ml/data/ML-CUP19/dmeoli_ML-CUP19-TS.csv', \n",
    "          index=True, header=False)"
   ]
  },
  {
   "cell_type": "markdown",
   "metadata": {},
   "source": [
    "The predicted results on the blind test set with the best estimator found are available in the ***dmeoli_ML-CUP19-TS.csv*** file."
   ]
  },
  {
   "cell_type": "markdown",
   "metadata": {},
   "source": [
    "## Conclusions"
   ]
  },
  {
   "cell_type": "markdown",
   "metadata": {},
   "source": [
    "The choice to train a SVR rather than a *Neural Network* was dictated by my personal fascination about the versatility of the SVM formulation in such different ways. From the most immediate and simplest, i.e., as a *primal formulation* which gives rise to an unconstrained optimization problem, going from more complex and powerful formulation, i.e., as a constrained quadratic optimization problem deriving from the *Wolfe dual* of the primal problem; up to formulations as constraints relaxation, e.g., as an unconstrained quadratic optimization problem deriving from the *Lagrangian bi-dual relaxation* of the constraints in the Wolfe dual.\n",
    "\n",
    "Also, for performance and efficiency reasons, the training phase on the ML-CUP19 was done with a custom reimplementation of the Platt's *Sequential Minimal Optimization* algorithm [[1]](#ref-1) (see [[2]](#ref-2) for improvements) initially developed for the classification problem and then adapted [[3]](#ref-3) and improved [[4]](#ref-4) also for regression. According to the state of art, it is considered the best-known way to train a SVM in its *Wolfe dual* formulation since it breaks up the original large QP problem into a series of smallest possible problems, which are then solved analytically.\n",
    "\n",
    "For what about the results on the Monk's problem, a simple training of the models, both SVC and Neural Network, can be seen in the first two cases. Just a simple polynomial kernel of degree two and three in the case of SVC and just one hidden layer with five nodes seems to be enough to achieve good accuracy in the case of Neural Network. Instead, in the third and last case, five more nodes and a second-order line search optimizer with a small L2 regularization have been added to improve the accuracy of the model in case of Neural Network and a higher C regularization parameter and a gaussian rbf kernel in case of SVC."
   ]
  },
  {
   "cell_type": "markdown",
   "metadata": {},
   "source": [
    "## References"
   ]
  },
  {
   "cell_type": "markdown",
   "metadata": {},
   "source": [
    "[[1]](#ref-1) [J.C. Platt. _Sequential Minimal Optimization: A Fast Algorithm for Training Support Vector Machines._](https://www.microsoft.com/en-us/research/wp-content/uploads/2016/02/tr-98-14.pdf)\n",
    "\n",
    "[[2]](#ref-2) [S.S. Keerthi, S.K. Shevade, C. Bhattacharyya, K.R.K. Murthy. _Improvements to Platt's SMO Algorithm for SVM Classifier Design._](http://web.cs.iastate.edu/~honavar/keerthi-svm.pdf)\n",
    "\n",
    "[[3]](#ref-3) [G.W. Flake, S. Lawrence. _Efficient SVM Regression Training with SMO._](https://link.springer.com/content/pdf/10.1023/A:1012474916001.pdf)\n",
    "\n",
    "[[4]](#ref-4) [S.K. Shevade, S.S. Keerthi, C. Bhattacharyya, K.R.K. Murthy. _Improvements to SMO Algorithm for SVM Regression._](http://citeseerx.ist.psu.edu/viewdoc/download?doi=10.1.1.27.8961&rep=rep1&type=pdf)"
   ]
  }
 ],
 "metadata": {
  "celltoolbar": "Hide code",
  "kernelspec": {
   "display_name": "Python 3",
   "language": "python",
   "name": "python3"
  },
  "language_info": {
   "codemirror_mode": {
    "name": "ipython",
    "version": 3
   },
   "file_extension": ".py",
   "mimetype": "text/x-python",
   "name": "python",
   "nbconvert_exporter": "python",
   "pygments_lexer": "ipython3",
   "version": "3.8.6"
  }
 },
 "nbformat": 4,
 "nbformat_minor": 4
}
